{
  "nbformat": 4,
  "nbformat_minor": 0,
  "metadata": {
    "colab": {
      "name": "Practice_1.ipynb",
      "provenance": [],
      "include_colab_link": true
    },
    "kernelspec": {
      "name": "python3",
      "display_name": "Python 3"
    }
  },
  "cells": [
    {
      "cell_type": "markdown",
      "metadata": {
        "id": "view-in-github",
        "colab_type": "text"
      },
      "source": [
        "<a href=\"https://colab.research.google.com/github/milindyadav777/ML_and_Python_practice/blob/master/Practice_1.ipynb\" target=\"_parent\"><img src=\"https://colab.research.google.com/assets/colab-badge.svg\" alt=\"Open In Colab\"/></a>"
      ]
    },
    {
      "cell_type": "code",
      "metadata": {
        "id": "Z6O0Fb7lCaUB",
        "colab_type": "code",
        "colab": {}
      },
      "source": [
        "import re\n",
        "\n",
        "pat = r\"$\""
      ],
      "execution_count": null,
      "outputs": []
    },
    {
      "cell_type": "code",
      "metadata": {
        "id": "GBOWSrEsCnoT",
        "colab_type": "code",
        "colab": {}
      },
      "source": [
        "a = re.findall(pat, 'eggspameggspamspam')"
      ],
      "execution_count": null,
      "outputs": []
    },
    {
      "cell_type": "code",
      "metadata": {
        "id": "gZ54XDJYC4c7",
        "colab_type": "code",
        "colab": {
          "base_uri": "https://localhost:8080/",
          "height": 34
        },
        "outputId": "8ecea572-aa79-4665-deaa-a5ca1eb8f9eb"
      },
      "source": [
        "print(a)"
      ],
      "execution_count": null,
      "outputs": [
        {
          "output_type": "stream",
          "text": [
            "['']\n"
          ],
          "name": "stdout"
        }
      ]
    },
    {
      "cell_type": "code",
      "metadata": {
        "id": "nBY997IJKL2e",
        "colab_type": "code",
        "colab": {
          "base_uri": "https://localhost:8080/",
          "height": 34
        },
        "outputId": "1eac4e0a-c17c-4728-99a0-9889b6aebce8"
      },
      "source": [
        "patt = r'^gr.....y$'\n",
        "\n",
        "print(re.search(patt, 'grhhhkhey'))"
      ],
      "execution_count": null,
      "outputs": [
        {
          "output_type": "stream",
          "text": [
            "None\n"
          ],
          "name": "stdout"
        }
      ]
    },
    {
      "cell_type": "code",
      "metadata": {
        "id": "c7JRBHnRR9iu",
        "colab_type": "code",
        "colab": {}
      },
      "source": [
        "pa = r'[^a-z] '\n",
        "\n",
        "if re.search(pa, 'ASSDDdfgdg#$%54453'):\n",
        "  print('Please add digits 0-9 and charcters !,@,#....')\n",
        "  "
      ],
      "execution_count": null,
      "outputs": []
    },
    {
      "cell_type": "code",
      "metadata": {
        "id": "SErDA2a19h46",
        "colab_type": "code",
        "colab": {
          "base_uri": "https://localhost:8080/",
          "height": 84
        },
        "outputId": "c6d33718-792a-4961-a5c6-d565035aebea"
      },
      "source": [
        "class Sentence:\n",
        "  \n",
        "  def __init__(self, sen):\n",
        "    self.sent = sen.split()\n",
        "    self.current = 0\n",
        "   \n",
        "\n",
        "  def __iter__(self):\n",
        "    return self\n",
        "  \n",
        "  \n",
        "  def __next__(self):\n",
        "    if self.current < len(self.sent):\n",
        "      val = self.sent[self.current]\n",
        "      self.current += 1\n",
        "      return val\n",
        "    else:\n",
        "      raise StopIteration\n",
        "      \n",
        "      \n",
        "asd = \"This is a test\"\n",
        "my_sentence = Sentence(asd)\n",
        "\n",
        "for i in my_sentence:\n",
        "  print(i)\n"
      ],
      "execution_count": null,
      "outputs": [
        {
          "output_type": "stream",
          "text": [
            "This\n",
            "is\n",
            "a\n",
            "test\n"
          ],
          "name": "stdout"
        }
      ]
    },
    {
      "cell_type": "code",
      "metadata": {
        "id": "5Pbpnl1yQZhZ",
        "colab_type": "code",
        "colab": {
          "base_uri": "https://localhost:8080/",
          "height": 34
        },
        "outputId": "02d8ae5e-17e3-493e-9161-110f773d85b3"
      },
      "source": [
        "import multiprocessing as mp\n",
        "print(\"Number of processors: \", mp.cpu_count())"
      ],
      "execution_count": null,
      "outputs": [
        {
          "output_type": "stream",
          "text": [
            "Number of processors:  2\n"
          ],
          "name": "stdout"
        }
      ]
    },
    {
      "cell_type": "code",
      "metadata": {
        "id": "uHPUd0x2raPM",
        "colab_type": "code",
        "colab": {
          "base_uri": "https://localhost:8080/",
          "height": 34
        },
        "outputId": "902daba9-edb0-4f4d-d107-4b36441c5aca"
      },
      "source": [
        "b = [1, 2, 3, 4, 5]\n",
        "print(10*3/2%7)"
      ],
      "execution_count": null,
      "outputs": [
        {
          "output_type": "stream",
          "text": [
            "1.0\n"
          ],
          "name": "stdout"
        }
      ]
    },
    {
      "cell_type": "code",
      "metadata": {
        "id": "w2wIUv1a98pX",
        "colab_type": "code",
        "colab": {
          "base_uri": "https://localhost:8080/",
          "height": 34
        },
        "outputId": "e2bb948c-b335-45d0-b0d3-ec324d19e81c"
      },
      "source": [
        "print('gameofdice'[::-1])"
      ],
      "execution_count": null,
      "outputs": [
        {
          "output_type": "stream",
          "text": [
            "ecidfoemag\n"
          ],
          "name": "stdout"
        }
      ]
    },
    {
      "cell_type": "code",
      "metadata": {
        "id": "KYVKM_IL_8cq",
        "colab_type": "code",
        "colab": {
          "base_uri": "https://localhost:8080/",
          "height": 34
        },
        "outputId": "73bb7bf9-5ec7-43c1-a3b1-9aaa06131d17"
      },
      "source": [
        "import os\n",
        "print(os.cpu_count())"
      ],
      "execution_count": null,
      "outputs": [
        {
          "output_type": "stream",
          "text": [
            "2\n"
          ],
          "name": "stdout"
        }
      ]
    },
    {
      "cell_type": "code",
      "metadata": {
        "id": "ItCg8bRpA2vr",
        "colab_type": "code",
        "colab": {
          "base_uri": "https://localhost:8080/",
          "height": 313
        },
        "outputId": "ebdd2d63-fb24-4839-db46-eba73b201ebb"
      },
      "source": [
        "import paltform\n",
        "print(platform.system())"
      ],
      "execution_count": null,
      "outputs": [
        {
          "output_type": "error",
          "ename": "ModuleNotFoundError",
          "evalue": "ignored",
          "traceback": [
            "\u001b[0;31m---------------------------------------------------------------------------\u001b[0m",
            "\u001b[0;31mModuleNotFoundError\u001b[0m                       Traceback (most recent call last)",
            "\u001b[0;32m<ipython-input-4-b88072fe0b71>\u001b[0m in \u001b[0;36m<module>\u001b[0;34m()\u001b[0m\n\u001b[0;32m----> 1\u001b[0;31m \u001b[0;32mimport\u001b[0m \u001b[0mpaltform\u001b[0m\u001b[0;34m\u001b[0m\u001b[0;34m\u001b[0m\u001b[0m\n\u001b[0m\u001b[1;32m      2\u001b[0m \u001b[0mprint\u001b[0m\u001b[0;34m(\u001b[0m\u001b[0mplatform\u001b[0m\u001b[0;34m.\u001b[0m\u001b[0msystem\u001b[0m\u001b[0;34m(\u001b[0m\u001b[0;34m)\u001b[0m\u001b[0;34m)\u001b[0m\u001b[0;34m\u001b[0m\u001b[0;34m\u001b[0m\u001b[0m\n",
            "\u001b[0;31mModuleNotFoundError\u001b[0m: No module named 'paltform'",
            "",
            "\u001b[0;31m---------------------------------------------------------------------------\u001b[0;32m\nNOTE: If your import is failing due to a missing package, you can\nmanually install dependencies using either !pip or !apt.\n\nTo view examples of installing some common dependencies, click the\n\"Open Examples\" button below.\n\u001b[0;31m---------------------------------------------------------------------------\u001b[0m\n"
          ]
        }
      ]
    },
    {
      "cell_type": "code",
      "metadata": {
        "id": "K_hSBbjrBiaN",
        "colab_type": "code",
        "colab": {
          "base_uri": "https://localhost:8080/",
          "height": 406
        },
        "outputId": "b4d5491b-9986-496a-a7ba-350d035e878f"
      },
      "source": [
        "import cpuinfo\n",
        "# print(type(cpuinfo.get_cpu_info()))\n",
        "cpu_info = cpuinfo.get_cpu_info()\n",
        "for k, v in cpu_info.items():\n",
        "  print(\"{0}: {1}\".format(k,v))"
      ],
      "execution_count": null,
      "outputs": [
        {
          "output_type": "stream",
          "text": [
            "python_version: 3.6.8.final.0 (64 bit)\n",
            "cpuinfo_version: [5, 0, 0]\n",
            "arch: X86_64\n",
            "bits: 64\n",
            "count: 2\n",
            "raw_arch_string: x86_64\n",
            "vendor_id: GenuineIntel\n",
            "brand: Intel(R) Xeon(R) CPU @ 2.30GHz\n",
            "hz_advertised: 2.3000 GHz\n",
            "hz_actual: 2.3000 GHz\n",
            "hz_advertised_raw: [2300000000, 0]\n",
            "hz_actual_raw: [2300000000, 0]\n",
            "model: 63\n",
            "family: 6\n",
            "flags: ['abm', 'aes', 'apic', 'arat', 'arch_capabilities', 'avx', 'avx2', 'bmi1', 'bmi2', 'clflush', 'cmov', 'constant_tsc', 'cpuid', 'cx16', 'cx8', 'de', 'erms', 'f16c', 'fma', 'fpu', 'fsgsbase', 'fxsr', 'ht', 'hypervisor', 'ibpb', 'ibrs', 'invpcid', 'invpcid_single', 'lahf_lm', 'lm', 'mca', 'mce', 'mmx', 'movbe', 'msr', 'mtrr', 'nonstop_tsc', 'nopl', 'nx', 'osxsave', 'pae', 'pat', 'pcid', 'pclmulqdq', 'pdpe1gb', 'pge', 'pni', 'popcnt', 'pse', 'pse36', 'pti', 'rdrand', 'rdrnd', 'rdtscp', 'rep_good', 'sep', 'smep', 'ss', 'ssbd', 'sse', 'sse2', 'sse4_1', 'sse4_2', 'ssse3', 'stibp', 'syscall', 'tsc', 'tsc_adjust', 'tsc_known_freq', 'vme', 'x2apic', 'xsave', 'xsaveopt', 'xtopology']\n",
            "l3_cache_size: 46080 KB\n",
            "l2_cache_size: 256 KB\n",
            "l1_data_cache_size: 32 KB\n",
            "l1_instruction_cache_size: 32 KB\n",
            "l2_cache_line_size: 6\n",
            "l2_cache_associativity: 0x100\n",
            "extended_model: 3\n"
          ],
          "name": "stdout"
        }
      ]
    },
    {
      "cell_type": "code",
      "metadata": {
        "id": "1oaOZRaFEz6_",
        "colab_type": "code",
        "colab": {
          "base_uri": "https://localhost:8080/",
          "height": 34
        },
        "outputId": "b2e8f054-7240-4b86-f7d1-52329ef169af"
      },
      "source": [
        "import platform\n",
        "print(platform.release())"
      ],
      "execution_count": null,
      "outputs": [
        {
          "output_type": "stream",
          "text": [
            "4.14.79+\n"
          ],
          "name": "stdout"
        }
      ]
    }
  ]
}