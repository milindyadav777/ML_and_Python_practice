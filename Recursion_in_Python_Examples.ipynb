{
  "nbformat": 4,
  "nbformat_minor": 0,
  "metadata": {
    "colab": {
      "name": "Recursion in Python Examples.ipynb",
      "provenance": [],
      "collapsed_sections": [],
      "include_colab_link": true
    },
    "kernelspec": {
      "name": "python3",
      "display_name": "Python 3"
    }
  },
  "cells": [
    {
      "cell_type": "markdown",
      "metadata": {
        "id": "view-in-github",
        "colab_type": "text"
      },
      "source": [
        "<a href=\"https://colab.research.google.com/github/milindyadav777/ML_and_Python_practice/blob/master/Recursion_in_Python_Examples.ipynb\" target=\"_parent\"><img src=\"https://colab.research.google.com/assets/colab-badge.svg\" alt=\"Open In Colab\"/></a>"
      ]
    },
    {
      "cell_type": "markdown",
      "metadata": {
        "id": "V7WB6MH1PcmJ",
        "colab_type": "text"
      },
      "source": [
        "#Flattening of List"
      ]
    },
    {
      "cell_type": "code",
      "metadata": {
        "id": "uAkoeDdMPtCA",
        "colab_type": "code",
        "colab": {
          "base_uri": "https://localhost:8080/",
          "height": 34
        },
        "outputId": "ea28ebbc-dbcc-4ce4-e572-29592a5316f0"
      },
      "source": [
        "def flatten(lst):\n",
        "  flat = []\n",
        "  def flat_process(lst, flat):\n",
        "    for i in lst:\n",
        "      if type(i) != list:\n",
        "        flat.append(i)\n",
        "      else:\n",
        "        flat_process(i, flat)\n",
        "    return flat\n",
        "    \n",
        "  return flat_process(lst, flat)\n",
        "\n",
        "a = [1, [2, [3, 4, [5, 6, 7], 8], 9, 10], 11, [12, 13, [14, 15], 16], 17, 18]\n",
        "\n",
        "print(flatten(a))"
      ],
      "execution_count": null,
      "outputs": [
        {
          "output_type": "stream",
          "text": [
            "[1, 2, 3, 4, 5, 6, 7, 8, 9, 10, 11, 12, 13, 14, 15, 16, 17, 18]\n"
          ],
          "name": "stdout"
        }
      ]
    },
    {
      "cell_type": "markdown",
      "metadata": {
        "id": "IZlm1jAQVLTk",
        "colab_type": "text"
      },
      "source": [
        "#Copy of a list"
      ]
    },
    {
      "cell_type": "code",
      "metadata": {
        "id": "nGQzdwAEVSsB",
        "colab_type": "code",
        "colab": {
          "base_uri": "https://localhost:8080/",
          "height": 119
        },
        "outputId": "1261dcfe-9fd6-4339-d363-c6a64b80d5f6"
      },
      "source": [
        "def copy(lst):\n",
        "  copy_lst = []\n",
        "  def make_copy(lst, copy_lst):\n",
        "    if lst == []:\n",
        "      return lst\n",
        "    else:\n",
        "      copy_lst.append(lst[0])\n",
        "      make_copy(lst[1:], copy_lst)\n",
        "    return copy_lst\n",
        "  return make_copy(lst, copy_lst)\n",
        "\n",
        "\n",
        "b = [1, [2, 3]]\n",
        "another_b = b\n",
        "copy_b = copy(b)\n",
        "print(\"{1} --> {0}\".format(copy_b, b))\n",
        "print(\"ID of 'b' is %d\" % id(b))\n",
        "print(\"ID of 'another_b' is %d\" % id(another_b))\n",
        "print(\"ID of 'copy_b' is %d\" % id(copy_b))\n",
        "for i in range(2):\n",
        "  print(\"%d\\t%d\"% (id(b[i]), id(copy_b[i])))\n"
      ],
      "execution_count": null,
      "outputs": [
        {
          "output_type": "stream",
          "text": [
            "[1, [2, 3]] --> [1, [2, 3]]\n",
            "ID of 'b' is 139765293180488\n",
            "ID of 'another_b' is 139765293180488\n",
            "ID of 'copy_b' is 139765293180232\n",
            "10914496\t10914496\n",
            "139765293181384\t139765293181384\n"
          ],
          "name": "stdout"
        }
      ]
    },
    {
      "cell_type": "markdown",
      "metadata": {
        "id": "aWw9Q-rNYioD",
        "colab_type": "text"
      },
      "source": [
        "#Deep copy of a list"
      ]
    },
    {
      "cell_type": "code",
      "metadata": {
        "id": "4XrUyAcsYrIQ",
        "colab_type": "code",
        "colab": {
          "base_uri": "https://localhost:8080/",
          "height": 119
        },
        "outputId": "8b7640b3-5f71-4564-c574-94fdfe9c7f4e"
      },
      "source": [
        "def deep_copy(lst):\n",
        "  deep_copy_list = []\n",
        "  def make_deep_copy(lst, deep_copy_list):\n",
        "    if lst == []:\n",
        "      pass\n",
        "    else:\n",
        "      if type(lst[0]) == list:\n",
        "        deep_copy_list.append([])\n",
        "        make_deep_copy(lst[0], deep_copy_list[-1])\n",
        "      else:\n",
        "        deep_copy_list.append(int(lst[0]))\n",
        "      make_deep_copy(lst[1:], deep_copy_list)\n",
        "    return deep_copy_list\n",
        "  return make_deep_copy(lst, deep_copy_list)\n",
        "\n",
        "x = [1, [49, 38]]\n",
        "deep_x = deep_copy(x)\n",
        "\n",
        "print(\"{1} --DEEP COPY--> {0}\".format(deep_x, x))\n",
        "print(\"ID of x is %d\" % id(x))\n",
        "print(\"ID of deep_x is %d\" % id(deep_x))\n",
        "\n",
        "for i in range(len(x)):\n",
        "  print(\"%d\\t%d\"% (id(x[i]), id(deep_x[i])))\n",
        "\n",
        "print(id(1))\n",
        "\n",
        "    "
      ],
      "execution_count": null,
      "outputs": [
        {
          "output_type": "stream",
          "text": [
            "[1, [49, 38]] --DEEP COPY--> [1, [49, 38]]\n",
            "ID of x is 139765292947656\n",
            "ID of deep_x is 139765294585800\n",
            "10914496\t10914496\n",
            "139765292946248\t139765295465352\n",
            "10914496\n"
          ],
          "name": "stdout"
        }
      ]
    },
    {
      "cell_type": "markdown",
      "metadata": {
        "id": "Fc-JYSMgRCRC",
        "colab_type": "text"
      },
      "source": [
        "#Permutation"
      ]
    },
    {
      "cell_type": "code",
      "metadata": {
        "id": "Y6-KV-1YRFXP",
        "colab_type": "code",
        "colab": {
          "base_uri": "https://localhost:8080/",
          "height": 221
        },
        "outputId": "dd8b1882-fab3-492e-bff9-2b22e32f46eb"
      },
      "source": [
        "def permutation(list_to_permute,\n",
        "                permuted_list = [],\n",
        "                k = 0,\n",
        "                pos = 0):\n",
        "  \n",
        "  permuted_list.insert(pos, list_to_permute[k])\n",
        "\n",
        "  if len(permuted_list) == len(list_to_permute):\n",
        "    every_list.append(permuted_list)\n",
        "    print(permuted_list)\n",
        "    print(every_list)\n",
        "    \n",
        "  else:\n",
        "    permutation(list_to_permute, permuted_list,every_list, k+1, 0)\n",
        "  \n",
        "  \n",
        "  permuted_list.remove(list_to_permute[k])\n",
        "\n",
        "\n",
        "  if pos < k:\n",
        "    permutation(list_to_permute, permuted_list, every_list, k, pos+1)\n",
        "  \n",
        "\n",
        "permutation([1, 2, 3])"
      ],
      "execution_count": null,
      "outputs": [
        {
          "output_type": "stream",
          "text": [
            "[3, 2, 1]\n",
            "[[3, 2, 1]]\n",
            "[2, 3, 1]\n",
            "[[2, 3, 1], [2, 3, 1]]\n",
            "[2, 1, 3]\n",
            "[[2, 1, 3], [2, 1, 3], [2, 1, 3]]\n",
            "[3, 1, 2]\n",
            "[[3, 1, 2], [3, 1, 2], [3, 1, 2], [3, 1, 2]]\n",
            "[1, 3, 2]\n",
            "[[1, 3, 2], [1, 3, 2], [1, 3, 2], [1, 3, 2], [1, 3, 2]]\n",
            "[1, 2, 3]\n",
            "[[1, 2, 3], [1, 2, 3], [1, 2, 3], [1, 2, 3], [1, 2, 3], [1, 2, 3]]\n"
          ],
          "name": "stdout"
        }
      ]
    },
    {
      "cell_type": "markdown",
      "metadata": {
        "id": "vuSxAhwGNxRa",
        "colab_type": "text"
      },
      "source": [
        "#Tower of Hanoi"
      ]
    },
    {
      "cell_type": "code",
      "metadata": {
        "id": "YA_v8x2dN1dS",
        "colab_type": "code",
        "colab": {}
      },
      "source": [
        ""
      ],
      "execution_count": null,
      "outputs": []
    }
  ]
}