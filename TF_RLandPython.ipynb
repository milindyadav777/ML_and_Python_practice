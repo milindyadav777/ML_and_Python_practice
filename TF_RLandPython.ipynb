{
  "nbformat": 4,
  "nbformat_minor": 0,
  "metadata": {
    "colab": {
      "name": "TF_RLandPython.ipynb",
      "provenance": [],
      "collapsed_sections": [],
      "include_colab_link": true
    },
    "kernelspec": {
      "name": "python3",
      "display_name": "Python 3"
    }
  },
  "cells": [
    {
      "cell_type": "markdown",
      "metadata": {
        "id": "view-in-github",
        "colab_type": "text"
      },
      "source": [
        "<a href=\"https://colab.research.google.com/github/milindyadav777/ML_and_Python_practice/blob/master/TF_RLandPython.ipynb\" target=\"_parent\"><img src=\"https://colab.research.google.com/assets/colab-badge.svg\" alt=\"Open In Colab\"/></a>"
      ]
    },
    {
      "cell_type": "code",
      "metadata": {
        "id": "gChYjDjRjPLl",
        "colab_type": "code",
        "colab": {}
      },
      "source": [
        "!pip install tensorflow==2.0.0-alpha0"
      ],
      "execution_count": null,
      "outputs": []
    },
    {
      "cell_type": "code",
      "metadata": {
        "id": "P_hicfkkeeUd",
        "colab_type": "code",
        "colab": {}
      },
      "source": [
        "import tensorflow as tf\n",
        "a = tf.constant([1.0, 3, 4.5])\n",
        "b = tf.constant([3.4, 5.4, 6.7])\n",
        "with tf.Session() as sess:\n",
        "  sum  = tf.add(a, b)\n",
        "print(a.graph, b.eval)\n",
        "\n",
        "print(sum.graph)"
      ],
      "execution_count": null,
      "outputs": []
    },
    {
      "cell_type": "code",
      "metadata": {
        "id": "a_sgCYFqOtCR",
        "colab_type": "code",
        "colab": {}
      },
      "source": [
        "import gym\n",
        "env = gym.make('CartPole-v0')\n",
        "env.reset()\n",
        "for _ in range(1000):\n",
        "    env.render()\n",
        "    env.step(env.action_space.sample()) # take a random action\n",
        "env.close()"
      ],
      "execution_count": null,
      "outputs": []
    },
    {
      "cell_type": "code",
      "metadata": {
        "id": "CmbMaQTIdmTp",
        "colab_type": "code",
        "colab": {
          "base_uri": "https://localhost:8080/",
          "height": 34
        },
        "outputId": "0368e552-8569-444f-f214-1ded9baf1d3d"
      },
      "source": [
        "type(format(ord(\"c\"), \"x\"))"
      ],
      "execution_count": null,
      "outputs": [
        {
          "output_type": "execute_result",
          "data": {
            "text/plain": [
              "str"
            ]
          },
          "metadata": {
            "tags": []
          },
          "execution_count": 4
        }
      ]
    },
    {
      "cell_type": "code",
      "metadata": {
        "id": "hXcpIDoCmxWQ",
        "colab_type": "code",
        "colab": {
          "base_uri": "https://localhost:8080/",
          "height": 337
        },
        "outputId": "362cc31f-bacb-4697-8e4d-1bced9a2c982"
      },
      "source": [
        "def words_to_hex(words):\n",
        "  a = words.split()\n",
        "  hexo = []\n",
        "  for i in a:\n",
        "    i = i[:3]\n",
        "    dit = {1:'#' + format(ord(i[0]), \"x\") + '00' + '00', 2:'#' + format(ord(i[0]), \"x\") + format(ord(i[1]), \"x\") + '00',3:'#' + format(ord(i[0]), \"x\") + format(ord(i[1]), \"x\") + format(ord(i[2]), \"x\"),}[len(i)]\n",
        "    hexo.append(dit)\n",
        "        \n",
        "  return hexo\n",
        "\n",
        "words_to_hex(\"Hello, my name is Gary and I like cheese.\")"
      ],
      "execution_count": null,
      "outputs": [
        {
          "output_type": "error",
          "ename": "IndexError",
          "evalue": "ignored",
          "traceback": [
            "\u001b[0;31m---------------------------------------------------------------------------\u001b[0m",
            "\u001b[0;31mIndexError\u001b[0m                                Traceback (most recent call last)",
            "\u001b[0;32m<ipython-input-9-79f8a3865437>\u001b[0m in \u001b[0;36m<module>\u001b[0;34m()\u001b[0m\n\u001b[1;32m      9\u001b[0m   \u001b[0;32mreturn\u001b[0m \u001b[0mhexo\u001b[0m\u001b[0;34m\u001b[0m\u001b[0;34m\u001b[0m\u001b[0m\n\u001b[1;32m     10\u001b[0m \u001b[0;34m\u001b[0m\u001b[0m\n\u001b[0;32m---> 11\u001b[0;31m \u001b[0mwords_to_hex\u001b[0m\u001b[0;34m(\u001b[0m\u001b[0;34m\"Hello, my name is Gary and I like cheese.\"\u001b[0m\u001b[0;34m)\u001b[0m\u001b[0;34m\u001b[0m\u001b[0;34m\u001b[0m\u001b[0m\n\u001b[0m",
            "\u001b[0;32m<ipython-input-9-79f8a3865437>\u001b[0m in \u001b[0;36mwords_to_hex\u001b[0;34m(words)\u001b[0m\n\u001b[1;32m      4\u001b[0m   \u001b[0;32mfor\u001b[0m \u001b[0mi\u001b[0m \u001b[0;32min\u001b[0m \u001b[0ma\u001b[0m\u001b[0;34m:\u001b[0m\u001b[0;34m\u001b[0m\u001b[0;34m\u001b[0m\u001b[0m\n\u001b[1;32m      5\u001b[0m     \u001b[0mi\u001b[0m \u001b[0;34m=\u001b[0m \u001b[0mi\u001b[0m\u001b[0;34m[\u001b[0m\u001b[0;34m:\u001b[0m\u001b[0;36m3\u001b[0m\u001b[0;34m]\u001b[0m\u001b[0;34m\u001b[0m\u001b[0;34m\u001b[0m\u001b[0m\n\u001b[0;32m----> 6\u001b[0;31m     \u001b[0mdit\u001b[0m \u001b[0;34m=\u001b[0m \u001b[0;34m{\u001b[0m\u001b[0;36m1\u001b[0m\u001b[0;34m:\u001b[0m\u001b[0;34m'#'\u001b[0m \u001b[0;34m+\u001b[0m \u001b[0mformat\u001b[0m\u001b[0;34m(\u001b[0m\u001b[0mord\u001b[0m\u001b[0;34m(\u001b[0m\u001b[0mi\u001b[0m\u001b[0;34m[\u001b[0m\u001b[0;36m0\u001b[0m\u001b[0;34m]\u001b[0m\u001b[0;34m)\u001b[0m\u001b[0;34m,\u001b[0m \u001b[0;34m\"x\"\u001b[0m\u001b[0;34m)\u001b[0m \u001b[0;34m+\u001b[0m \u001b[0;34m'00'\u001b[0m \u001b[0;34m+\u001b[0m \u001b[0;34m'00'\u001b[0m\u001b[0;34m,\u001b[0m \u001b[0;36m2\u001b[0m\u001b[0;34m:\u001b[0m\u001b[0;34m'#'\u001b[0m \u001b[0;34m+\u001b[0m \u001b[0mformat\u001b[0m\u001b[0;34m(\u001b[0m\u001b[0mord\u001b[0m\u001b[0;34m(\u001b[0m\u001b[0mi\u001b[0m\u001b[0;34m[\u001b[0m\u001b[0;36m0\u001b[0m\u001b[0;34m]\u001b[0m\u001b[0;34m)\u001b[0m\u001b[0;34m,\u001b[0m \u001b[0;34m\"x\"\u001b[0m\u001b[0;34m)\u001b[0m \u001b[0;34m+\u001b[0m \u001b[0mformat\u001b[0m\u001b[0;34m(\u001b[0m\u001b[0mord\u001b[0m\u001b[0;34m(\u001b[0m\u001b[0mi\u001b[0m\u001b[0;34m[\u001b[0m\u001b[0;36m1\u001b[0m\u001b[0;34m]\u001b[0m\u001b[0;34m)\u001b[0m\u001b[0;34m,\u001b[0m \u001b[0;34m\"x\"\u001b[0m\u001b[0;34m)\u001b[0m \u001b[0;34m+\u001b[0m \u001b[0;34m'00'\u001b[0m\u001b[0;34m,\u001b[0m\u001b[0;36m3\u001b[0m\u001b[0;34m:\u001b[0m\u001b[0;34m'#'\u001b[0m \u001b[0;34m+\u001b[0m \u001b[0mformat\u001b[0m\u001b[0;34m(\u001b[0m\u001b[0mord\u001b[0m\u001b[0;34m(\u001b[0m\u001b[0mi\u001b[0m\u001b[0;34m[\u001b[0m\u001b[0;36m0\u001b[0m\u001b[0;34m]\u001b[0m\u001b[0;34m)\u001b[0m\u001b[0;34m,\u001b[0m \u001b[0;34m\"x\"\u001b[0m\u001b[0;34m)\u001b[0m \u001b[0;34m+\u001b[0m \u001b[0mformat\u001b[0m\u001b[0;34m(\u001b[0m\u001b[0mord\u001b[0m\u001b[0;34m(\u001b[0m\u001b[0mi\u001b[0m\u001b[0;34m[\u001b[0m\u001b[0;36m1\u001b[0m\u001b[0;34m]\u001b[0m\u001b[0;34m)\u001b[0m\u001b[0;34m,\u001b[0m \u001b[0;34m\"x\"\u001b[0m\u001b[0;34m)\u001b[0m \u001b[0;34m+\u001b[0m \u001b[0mformat\u001b[0m\u001b[0;34m(\u001b[0m\u001b[0mord\u001b[0m\u001b[0;34m(\u001b[0m\u001b[0mi\u001b[0m\u001b[0;34m[\u001b[0m\u001b[0;36m2\u001b[0m\u001b[0;34m]\u001b[0m\u001b[0;34m)\u001b[0m\u001b[0;34m,\u001b[0m \u001b[0;34m\"x\"\u001b[0m\u001b[0;34m)\u001b[0m\u001b[0;34m,\u001b[0m\u001b[0;34m}\u001b[0m\u001b[0;34m[\u001b[0m\u001b[0mlen\u001b[0m\u001b[0;34m(\u001b[0m\u001b[0mi\u001b[0m\u001b[0;34m)\u001b[0m\u001b[0;34m]\u001b[0m\u001b[0;34m\u001b[0m\u001b[0;34m\u001b[0m\u001b[0m\n\u001b[0m\u001b[1;32m      7\u001b[0m     \u001b[0mhexo\u001b[0m\u001b[0;34m.\u001b[0m\u001b[0mappend\u001b[0m\u001b[0;34m(\u001b[0m\u001b[0mdit\u001b[0m\u001b[0;34m)\u001b[0m\u001b[0;34m\u001b[0m\u001b[0;34m\u001b[0m\u001b[0m\n\u001b[1;32m      8\u001b[0m \u001b[0;34m\u001b[0m\u001b[0m\n",
            "\u001b[0;31mIndexError\u001b[0m: string index out of range"
          ]
        }
      ]
    },
    {
      "cell_type": "code",
      "metadata": {
        "id": "y3j5hdcxx_ob",
        "colab_type": "code",
        "colab": {
          "base_uri": "https://localhost:8080/",
          "height": 34
        },
        "outputId": "5507d0b4-c99e-41fa-8c0c-964fe3ba3de2"
      },
      "source": [
        "sum_of_mul = 0\n",
        "for i in range(1, 1000):\n",
        "  if i%3==0 or i%5==0:\n",
        "    sum_of_mul += i\n",
        "\n",
        "print(sum_of_mul)"
      ],
      "execution_count": null,
      "outputs": [
        {
          "output_type": "stream",
          "text": [
            "233168\n"
          ],
          "name": "stdout"
        }
      ]
    },
    {
      "cell_type": "code",
      "metadata": {
        "id": "mOhJA2XAzPlF",
        "colab_type": "code",
        "colab": {
          "base_uri": "https://localhost:8080/",
          "height": 71
        },
        "outputId": "165250be-da57-41b1-a4b0-f8683a894c0a"
      },
      "source": [
        "fib = [0,1,1]\n",
        "fibo = 0\n",
        "fib_even_sum = 0\n",
        "i = 2\n",
        "while fibo < 4000000:\n",
        "  fibo = fib[i] + fib[i-1]\n",
        "  i += 1\n",
        "  fib.append(fibo)\n",
        "  if fibo%2==0:\n",
        "    fib_even_sum += fibo\n",
        "\n",
        "print(fib)\n",
        "print(fib_even_sum)"
      ],
      "execution_count": null,
      "outputs": [
        {
          "output_type": "stream",
          "text": [
            "[0, 1, 1, 2, 3, 5, 8, 13, 21, 34, 55, 89, 144, 233, 377, 610, 987, 1597, 2584, 4181, 6765, 10946, 17711, 28657, 46368, 75025, 121393, 196418, 317811, 514229, 832040, 1346269, 2178309, 3524578, 5702887]\n",
            "4613732\n"
          ],
          "name": "stdout"
        }
      ]
    },
    {
      "cell_type": "code",
      "metadata": {
        "id": "onTw5Idt3EjC",
        "colab_type": "code",
        "colab": {
          "base_uri": "https://localhost:8080/",
          "height": 34
        },
        "outputId": "c5fd688e-8bfd-4b8f-ab42-f44df88880fc"
      },
      "source": [
        "print(5*7*13*29)"
      ],
      "execution_count": null,
      "outputs": [
        {
          "output_type": "stream",
          "text": [
            "13195\n"
          ],
          "name": "stdout"
        }
      ]
    },
    {
      "cell_type": "code",
      "metadata": {
        "id": "5TN6ZWCgwDHU",
        "colab_type": "code",
        "colab": {
          "base_uri": "https://localhost:8080/",
          "height": 51
        },
        "outputId": "7768cd64-fa06-43d6-e022-f2438ff9fadc"
      },
      "source": [
        "# Prime factors\n",
        "\n",
        "n = int(input())\n",
        "m = n\n",
        "factors = []\n",
        "i = 2\n",
        "while m != 1 :\n",
        "  if m%i==0:\n",
        "    m = m//i\n",
        "    factors.append(i)\n",
        "  else:\n",
        "    if i==(n//2)+1:\n",
        "      break\n",
        "    else:\n",
        "      i += 1\n",
        "\n",
        "if factors:\n",
        "  print(*factors, sep=\" \")\n",
        "else:\n",
        "  print(\"number is prime\")"
      ],
      "execution_count": null,
      "outputs": [
        {
          "output_type": "stream",
          "text": [
            "600851475143\n",
            "71 839 1471 6857\n"
          ],
          "name": "stdout"
        }
      ]
    },
    {
      "cell_type": "code",
      "metadata": {
        "id": "kMFe55AEw5rc",
        "colab_type": "code",
        "colab": {
          "base_uri": "https://localhost:8080/",
          "height": 34
        },
        "outputId": "f8ebcaf0-9d17-478a-8d57-d1beaef58e32"
      },
      "source": [
        "if [23]:\n",
        "  print(\"this\")\n",
        "else:\n",
        "  print(23)"
      ],
      "execution_count": null,
      "outputs": [
        {
          "output_type": "stream",
          "text": [
            "this\n"
          ],
          "name": "stdout"
        }
      ]
    },
    {
      "cell_type": "code",
      "metadata": {
        "id": "1wT5LJL53ZGA",
        "colab_type": "code",
        "colab": {
          "base_uri": "https://localhost:8080/",
          "height": 34
        },
        "outputId": "867b6427-d3cc-4d72-fc03-9aa5ad2c529a"
      },
      "source": [
        "import sys\n",
        "class Node:\n",
        "  def __init__(self, data):\n",
        "    self.data = data\n",
        "    self.next = None\n",
        "\n",
        "node1 = Node(5)\n",
        "node2 = Node(\"a\")\n",
        "node1.next = node2\n",
        "print(node1.data, \"-->\",end =\" \")\n",
        "print(node1.next.data)"
      ],
      "execution_count": null,
      "outputs": [
        {
          "output_type": "stream",
          "text": [
            "5 --> a\n"
          ],
          "name": "stdout"
        }
      ]
    },
    {
      "cell_type": "code",
      "metadata": {
        "id": "rGfUcqJV1_b1",
        "colab_type": "code",
        "colab": {
          "base_uri": "https://localhost:8080/",
          "height": 136
        },
        "outputId": "e7f1f8f3-f498-4423-e165-0ea6f0bc5287"
      },
      "source": [
        "#Largest palindrome product of two n digit numbers\n",
        "\n",
        "from time import time\n",
        "\n",
        "def largst_palin(n):\n",
        "  n_digit_init = 10**n -1\n",
        "  max = 0\n",
        "  last_limit = 10**n - 10**(n-1)\n",
        "  i = n_digit_init\n",
        "  j = i\n",
        "\n",
        "  print(last_limit)\n",
        "  print(n_digit_init)\n",
        "\n",
        "  while i > last_limit:\n",
        "    j = i\n",
        "    if i*j < max:\n",
        "      break\n",
        "    while j > last_limit:\n",
        "      x = i*j\n",
        "      \n",
        "      if x > max:\n",
        "        s = str(x)\n",
        "        if s == s[::-1]:\n",
        "          max = x\n",
        "          number1 = i\n",
        "          number2 = j\n",
        "      else:\n",
        "        break\n",
        "      j -= 1\n",
        "    i -= 1\n",
        "  print(number1)\n",
        "  print(number2)\n",
        "  return max\n",
        "\n",
        "\n",
        "n = int(input(\"Enter the number: \"))\n",
        "start = time()\n",
        "print(\"Largest palindrome product of two %d digit numbers is, %d\" % (n, largst_palin(n)))\n",
        "print(\"Time taken: %f seconds\" % (time()-start))"
      ],
      "execution_count": null,
      "outputs": [
        {
          "output_type": "stream",
          "text": [
            "Enter the number: 8\n",
            "90000000\n",
            "99999999\n",
            "99999999\n",
            "99990001\n",
            "Largest palindrome product of two 8 digit numbers is, 9999000000009999\n",
            "Time taken: 10.347005 seconds\n"
          ],
          "name": "stdout"
        }
      ]
    },
    {
      "cell_type": "code",
      "metadata": {
        "id": "m8qgTdhhGOpA",
        "colab_type": "code",
        "colab": {
          "base_uri": "https://localhost:8080/",
          "height": 119
        },
        "outputId": "fd42fc7b-d547-40f5-84cb-50b9ee6f0f87"
      },
      "source": [
        "import sys\n",
        "\n",
        "charac = 'a'\n",
        "strin = \"bb\"\n",
        "print(type(charac))\n",
        "\n",
        "print(type(strin))\n",
        "\n",
        "print(\"    \")\n",
        "print(sys.getsizeof(str()))\n",
        "print(sys.getsizeof(charac))\n",
        "print(sys.getsizeof(strin))"
      ],
      "execution_count": null,
      "outputs": [
        {
          "output_type": "stream",
          "text": [
            "<class 'str'>\n",
            "<class 'str'>\n",
            "    \n",
            "53\n",
            "58\n",
            "51\n"
          ],
          "name": "stdout"
        }
      ]
    },
    {
      "cell_type": "code",
      "metadata": {
        "id": "XoTV5rANlF1n",
        "colab_type": "code",
        "colab": {
          "base_uri": "https://localhost:8080/",
          "height": 85
        },
        "outputId": "9082349b-6f3d-43c9-dd26-86533e8e29e8"
      },
      "source": [
        "import math\n",
        "from time import time\n",
        "\n",
        "# the recursive function to reverse \n",
        "def rev(num): \n",
        "    return int(num != 0) and ((num % 10) * \n",
        "             (10**int(math.log(num, 10))) +\n",
        "                          rev(num // 10)) \n",
        "  \n",
        "# initializing number  \n",
        "test_number1 = int(input(\"Enter the number:  \"))\n",
        "  \n",
        "# printing the original number  \n",
        "print (\"The original number is : \" + str(test_number1)) \n",
        "  \n",
        "# using math.log() + recursion + list comprehension \n",
        "# for checking a number is palindrome\n",
        "start3 = time()\n",
        "res = test_number1 == rev(test_number1) \n",
        "  \n",
        "# printing result \n",
        "print (\"Is the number palindrome ? : \" + str(res))\n",
        "end3 = time()\n",
        "print(\"Time taken: {} seconds\".format(start3-end3))"
      ],
      "execution_count": null,
      "outputs": [
        {
          "output_type": "stream",
          "text": [
            "Enter the number:  1\n",
            "The original number is : 1\n",
            "Is the number palindrome ? : True\n",
            "Time taken: -0.00011348724365234375 seconds\n"
          ],
          "name": "stdout"
        }
      ]
    },
    {
      "cell_type": "code",
      "metadata": {
        "id": "dB6l4mtHlQ2-",
        "colab_type": "code",
        "colab": {
          "base_uri": "https://localhost:8080/",
          "height": 85
        },
        "outputId": "27be50bb-f93f-45fd-fe3f-bc86d45c8466"
      },
      "source": [
        "test_number2 = int(input(\"Enter the number:  \"))\n",
        "  \n",
        "# printing the original number\n",
        "print (\"The original number is : \" + str(test_number2)) \n",
        "  \n",
        "# using str() + string slicing \n",
        "# for checking a number is palindrome \n",
        "start4 = time()\n",
        "res2 = str(test_number2) == str(test_number2)[::-1] \n",
        "  \n",
        "# printing result \n",
        "print (\"Is the number palindrome ? : \" + str(res2))\n",
        "end4 = time()\n",
        "print(\"Time taken: {} seconds\".format(start4-end4))"
      ],
      "execution_count": null,
      "outputs": [
        {
          "output_type": "stream",
          "text": [
            "Enter the number:  1\n",
            "The original number is : 1\n",
            "Is the number palindrome ? : True\n",
            "Time taken: -0.00018906593322753906 seconds\n"
          ],
          "name": "stdout"
        }
      ]
    },
    {
      "cell_type": "code",
      "metadata": {
        "id": "8yj1muPtpQfP",
        "colab_type": "code",
        "colab": {
          "base_uri": "https://localhost:8080/",
          "height": 34
        },
        "outputId": "cacdd890-f527-47eb-bee0-a3181de64798"
      },
      "source": [
        "lis = []\n",
        "i = 0\n",
        "while i < 7:\n",
        "  lis.append([])\n",
        "  i += 1\n",
        "print(lis)"
      ],
      "execution_count": null,
      "outputs": [
        {
          "output_type": "stream",
          "text": [
            "[[], [], [], [], [], [], []]\n"
          ],
          "name": "stdout"
        }
      ]
    },
    {
      "cell_type": "code",
      "metadata": {
        "id": "agAVUwU3yHPW",
        "colab_type": "code",
        "colab": {
          "base_uri": "https://localhost:8080/",
          "height": 136
        },
        "outputId": "d72be72b-120e-4217-f3a2-effc72a616cf"
      },
      "source": [
        "a, b, c = map(int, input().split())\n",
        "print(\"\\n\\n\")\n",
        "print(a)\n",
        "print(b)\n",
        "print(c)"
      ],
      "execution_count": null,
      "outputs": [
        {
          "output_type": "stream",
          "text": [
            "35 24 2654\n",
            "\n",
            "\n",
            "\n",
            "35\n",
            "24\n",
            "2654\n"
          ],
          "name": "stdout"
        }
      ]
    }
  ]
}