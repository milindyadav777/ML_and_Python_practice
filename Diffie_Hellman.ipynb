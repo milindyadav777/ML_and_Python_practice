{
  "nbformat": 4,
  "nbformat_minor": 0,
  "metadata": {
    "colab": {
      "name": "Diffie-Hellman.ipynb",
      "provenance": [],
      "include_colab_link": true
    },
    "kernelspec": {
      "name": "python3",
      "display_name": "Python 3"
    }
  },
  "cells": [
    {
      "cell_type": "markdown",
      "metadata": {
        "id": "view-in-github",
        "colab_type": "text"
      },
      "source": [
        "<a href=\"https://colab.research.google.com/github/milindyadav777/ML_and_Python_practice/blob/master/Diffie_Hellman.ipynb\" target=\"_parent\"><img src=\"https://colab.research.google.com/assets/colab-badge.svg\" alt=\"Open In Colab\"/></a>"
      ]
    },
    {
      "cell_type": "code",
      "metadata": {
        "id": "dRCH1JrQQFJf",
        "colab_type": "code",
        "colab": {
          "base_uri": "https://localhost:8080/",
          "height": 34
        },
        "outputId": "01a6fe72-4243-41b8-d2fe-6aa10e520f98"
      },
      "source": [
        "import random\n",
        "from math import pow\n",
        "\n",
        "q = random.randint(2, 70)\n",
        "g = 73\n",
        "\n",
        "print(q)"
      ],
      "execution_count": 6,
      "outputs": [
        {
          "output_type": "stream",
          "text": [
            "3\n"
          ],
          "name": "stdout"
        }
      ]
    },
    {
      "cell_type": "code",
      "metadata": {
        "id": "mvztAK1KSCWK",
        "colab_type": "code",
        "colab": {}
      },
      "source": [
        "class Diffie:\n",
        "  \n",
        "  x = random.randint(2, q)\n",
        "  \n",
        "  def __init__(self, q, g):\n",
        "    self.q = q\n",
        "    self.g = g\n",
        "   \n",
        "  \n",
        "  \n",
        "  def user_key(self):\n",
        "    self.y = pow(self.g, Diffie.x) % self.q\n",
        "    return self.y\n",
        "  \n",
        "  \n",
        "  def secret_key(self, j):\n",
        "    s = pow(j, Diffie.x) % self.q\n",
        "    return s"
      ],
      "execution_count": 7,
      "outputs": []
    },
    {
      "cell_type": "code",
      "metadata": {
        "id": "RZfkc8AuWbKh",
        "colab_type": "code",
        "colab": {
          "base_uri": "https://localhost:8080/",
          "height": 85
        },
        "outputId": "7346dbee-7b6d-492c-aed5-5a2f73dab881"
      },
      "source": [
        "a = Diffie(q, g)\n",
        "b = Diffie(q, g)\n",
        "\n",
        "ya = a.user_key()\n",
        "print(ya)\n",
        "\n",
        "yb = b.user_key()\n",
        "print(yb)\n",
        "\n",
        "sa = a.secret_key(yb)\n",
        "print(sa)\n",
        "\n",
        "sb = a.secret_key(ya)\n",
        "print(sb)"
      ],
      "execution_count": 8,
      "outputs": [
        {
          "output_type": "stream",
          "text": [
            "1.0\n",
            "1.0\n",
            "1.0\n",
            "1.0\n"
          ],
          "name": "stdout"
        }
      ]
    }
  ]
}